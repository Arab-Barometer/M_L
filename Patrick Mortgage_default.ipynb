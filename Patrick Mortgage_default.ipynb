{
 "cells": [
  {
   "cell_type": "markdown",
   "metadata": {},
   "source": [
    "## Mortage Default Prediction"
   ]
  },
  {
   "cell_type": "code",
   "execution_count": null,
   "metadata": {},
   "outputs": [],
   "source": [
    "import ibmos2spark\n",
    "# @hidden_cell\n",
    "credentials = {\n",
    "    'endpoint': 'https://s3.eu-geo.objectstorage.service.networklayer.com',\n",
    "    'service_id': 'iam-ServiceId-ddd47da4-acfa-4590-babf-ab051b7f77b6',\n",
    "    'iam_service_endpoint': 'https://iam.eu-gb.bluemix.net/oidc/token',\n",
    "    'api_key': 'kCxdy2mVdTMcTotMupUlOh_cc6Wrynmh4b7kIAIZ98AU'\n",
    "}\n",
    "\n",
    "configuration_name = 'os_f99601c62bd54655b8bdd838cc2ad12e_configs'\n",
    "cos = ibmos2spark.CloudObjectStorage(sc, credentials, configuration_name, 'bluemix_cos')\n",
    "\n",
    "from pyspark.sql import SparkSession\n",
    "spark = SparkSession.builder.getOrCreate()\n",
    "data = spark.read\\\n",
    "  .format('org.apache.spark.sql.execution.datasources.csv.CSVFileFormat')\\\n",
    "  .option('header', 'true')\\\n",
    "  .option('inferSchema', 'true')\\\n",
    "  .load(cos.url('Mortgage_Training Data.csv', 'pyrtraining-donotdelete-pr-8zy0j2en6j4jea'))\n",
    "data.take(5)\n"
   ]
  },
  {
   "cell_type": "code",
   "execution_count": 9,
   "metadata": {},
   "outputs": [
    {
     "name": "stdout",
     "output_type": "stream",
     "text": [
      "Welcome to\n",
      "      ____              __\n",
      "     / __/__  ___ _____/ /__\n",
      "    _\\ \\/ _ \\/ _ `/ __/  '_/\n",
      "   /__ / .__/\\_,_/_/ /_/\\_\\   version 2.4.4\n",
      "      /_/\n",
      "\n",
      "Using Python version 3.7.4 (default, Sep  7 2019 18:27:02)\n",
      "SparkSession available as 'spark'.\n"
     ]
    }
   ],
   "source": [
    "import os\n",
    "exec(open('/usr/local/Cellar/apache-spark/2.4.4/libexec/python/pyspark/shell.py').read())"
   ]
  },
  {
   "cell_type": "code",
   "execution_count": 95,
   "metadata": {},
   "outputs": [],
   "source": [
    "import pandas as pd\n",
    "pandasDF = pd.read_csv('/Users/pharned/Documents/Mortgage_Training Data.csv')\n",
    "df = spark.read.csv('/Users/pharned/Documents/Mortgage_Training Data.csv', header = True, inferSchema = True)"
   ]
  },
  {
   "cell_type": "code",
   "execution_count": 96,
   "metadata": {},
   "outputs": [
    {
     "name": "stdout",
     "output_type": "stream",
     "text": [
      "root\n",
      " |-- ID: double (nullable = true)\n",
      " |-- Income: double (nullable = true)\n",
      " |-- AppliedOnline: string (nullable = true)\n",
      " |-- Residence: string (nullable = true)\n",
      " |-- YearCurrentAddress: double (nullable = true)\n",
      " |-- YearsCurrentEmployer: double (nullable = true)\n",
      " |-- NumberOfCards: double (nullable = true)\n",
      " |-- CCDebt: double (nullable = true)\n",
      " |-- Loans: double (nullable = true)\n",
      " |-- LoanAmount: double (nullable = true)\n",
      " |-- SalePrice: integer (nullable = true)\n",
      " |-- Location: integer (nullable = true)\n",
      " |-- MortgageDefault: string (nullable = true)\n",
      "\n"
     ]
    }
   ],
   "source": [
    "df.printSchema()"
   ]
  },
  {
   "cell_type": "markdown",
   "metadata": {},
   "source": [
    "##I first check the distribution of the target variables. This is an important step in classification setting to avoid trivial classifiers."
   ]
  },
  {
   "cell_type": "code",
   "execution_count": 97,
   "metadata": {},
   "outputs": [
    {
     "data": {
      "image/png": "[encoded data removed]",
      "text/plain": [
       "<Figure size 432x288 with 1 Axes>"
      ]
     },
     "metadata": {
      "needs_background": "light"
     },
     "output_type": "display_data"
    }
   ],
   "source": [
    "data.dtypes\n",
    "data.describe()\n",
    "data.MortgageDefault.describe()\n",
    "import matplotlib.pyplot as plt\n",
    "plt.hist(data.MortgageDefault)\n",
    "plt.show()"
   ]
  },
  {
   "cell_type": "markdown",
   "metadata": {},
   "source": [
    "###I rewrote the code below, borrowing from DataBricks. indexing and coding the categorical/string type columns. We input the one hot encoder and first iterate over the two string columns with the Stringindexer, creating category indexing. Then I use the OneHotEncoderEstimate, adding them to stages. I use the VectorAssembler to merge the assembler inputs into vector columns."
   ]
  },
  {
   "cell_type": "code",
   "execution_count": 57,
   "metadata": {},
   "outputs": [],
   "source": [
    "from pyspark.ml.feature import OneHotEncoder, StringIndexer, VectorIndexer, IndexToString, OneHotEncoderEstimator\n",
    "from pyspark.ml import Pipeline\n",
    "from pyspark.ml.feature import VectorAssembler\n",
    "from pyspark.ml.classification import RandomForestClassifier\n",
    "categoricalColumns = ['AppliedOnline','Residence']\n",
    "stages=[]\n",
    "for categoricalCol in categoricalColumns:\n",
    "    # Category Indexing with StringIndexer\n",
    "    stringIndexer = StringIndexer(inputCol=categoricalCol, outputCol=categoricalCol + \"Index\")\n",
    "    encoder = OneHotEncoderEstimator(inputCols=[stringIndexer.getOutputCol()], outputCols=[categoricalCol + \"classVec\"])\n",
    "    # Add stages.  These are not run here, but will run all at once later on.\n",
    "    stages += [stringIndexer, encoder]\n",
    "\n",
    "label_stringIdx = StringIndexer(inputCol = 'MortgageDefault', outputCol = 'label')\n",
    "stages += [label_stringIdx]\n",
    "numericCols = ['Income', 'YearCurrentAddress', 'YearsCurrentEmployer', 'NumberOfCards', 'CCDebt', 'Loans',\"LoanAmount\"]\n",
    "assemblerInputs = [c + \"classVec\" for c in categoricalColumns] + numericCols\n",
    "assembler = VectorAssembler(inputCols=assemblerInputs, outputCol=\"features\")\n",
    "stages += [assembler]"
   ]
  },
  {
   "cell_type": "code",
   "execution_count": 99,
   "metadata": {},
   "outputs": [],
   "source": [
    "from pyspark.ml.feature import OneHotEncoder, StringIndexer, VectorIndexer, IndexToString\n",
    "from pyspark.ml import Pipeline\n",
    "from pyspark.ml.feature import VectorAssembler\n",
    "from pyspark.ml.classification import RandomForestClassifier\n",
    "\n",
    "\n",
    "SI1 = StringIndexer(inputCol='AppliedOnline', outputCol='AppliedOnlineEncoded')\n",
    "SI2 = StringIndexer(inputCol='Residence',outputCol='ResidenceEncoded')\n",
    "SI3 = StringIndexer(inputCol='Location',outputCol='LocationEncoded')\n",
    "labelIndexer = StringIndexer(inputCol='MortgageDefault', outputCol='label')\n",
    "\n",
    "OH1 = OneHotEncoder(inputCol=\"AppliedOnlineEncoded\", outputCol=\"AppliedOnlineEncoded\"+\"classVec\")\n",
    "OH2 = OneHotEncoder(inputCol=\"ResidenceEncoded\", outputCol=\"ResidenceEncoded\"+\"classVec\")\n",
    "OH3 = OneHotEncoder(inputCol=\"LocationEncoded\", outputCol=\"LocationEncoded\"+\"classVec\")\n",
    "\n",
    "assembler = VectorAssembler(inputCols=[\"Income\", \"AppliedOnlineEncoded\"+\"classVec\",\\\n",
    "                                       \"ResidenceEncoded\"+\"classVec\", \"YearCurrentAddress\",\\\n",
    "                                       \"YearsCurrentEmployer\", \"NumberOfCards\", \"CCDebt\", \\\n",
    "                                       \"Loans\", \"LoanAmount\", \"SalePrice\", \"LocationEncoded\"+\"classVec\"],\\\n",
    "                            outputCol=\"features\")"
   ]
  },
  {
   "cell_type": "code",
   "execution_count": 42,
   "metadata": {},
   "outputs": [
    {
     "data": {
      "text/html": [
       "<div>\n",
       "<style scoped>\n",
       "    .dataframe tbody tr th:only-of-type {\n",
       "        vertical-align: middle;\n",
       "    }\n",
       "\n",
       "    .dataframe tbody tr th {\n",
       "        vertical-align: top;\n",
       "    }\n",
       "\n",
       "    .dataframe thead th {\n",
       "        text-align: right;\n",
       "    }\n",
       "</style>\n",
       "<table border=\"1\" class=\"dataframe\">\n",
       "  <thead>\n",
       "    <tr style=\"text-align: right;\">\n",
       "      <th></th>\n",
       "      <th>ID</th>\n",
       "      <th>Income</th>\n",
       "      <th>AppliedOnline</th>\n",
       "      <th>Residence</th>\n",
       "      <th>YearCurrentAddress</th>\n",
       "      <th>YearsCurrentEmployer</th>\n",
       "      <th>NumberOfCards</th>\n",
       "      <th>CCDebt</th>\n",
       "      <th>Loans</th>\n",
       "      <th>LoanAmount</th>\n",
       "      <th>SalePrice</th>\n",
       "      <th>Location</th>\n",
       "      <th>MortgageDefault</th>\n",
       "    </tr>\n",
       "  </thead>\n",
       "  <tbody>\n",
       "    <tr>\n",
       "      <td>0</td>\n",
       "      <td>100522.0</td>\n",
       "      <td>43982.0</td>\n",
       "      <td>YES</td>\n",
       "      <td>Owner Occupier</td>\n",
       "      <td>13.0</td>\n",
       "      <td>11.0</td>\n",
       "      <td>2.0</td>\n",
       "      <td>1055.0</td>\n",
       "      <td>0.0</td>\n",
       "      <td>9405.0</td>\n",
       "      <td>500000</td>\n",
       "      <td>110</td>\n",
       "      <td>NO</td>\n",
       "    </tr>\n",
       "    <tr>\n",
       "      <td>1</td>\n",
       "      <td>101756.0</td>\n",
       "      <td>59944.0</td>\n",
       "      <td>YES</td>\n",
       "      <td>Owner Occupier</td>\n",
       "      <td>20.0</td>\n",
       "      <td>11.0</td>\n",
       "      <td>2.0</td>\n",
       "      <td>3894.0</td>\n",
       "      <td>0.0</td>\n",
       "      <td>9880.0</td>\n",
       "      <td>750000</td>\n",
       "      <td>110</td>\n",
       "      <td>NO</td>\n",
       "    </tr>\n",
       "    <tr>\n",
       "      <td>2</td>\n",
       "      <td>101354.0</td>\n",
       "      <td>57718.0</td>\n",
       "      <td>YES</td>\n",
       "      <td>Owner Occupier</td>\n",
       "      <td>25.0</td>\n",
       "      <td>16.0</td>\n",
       "      <td>2.0</td>\n",
       "      <td>1555.0</td>\n",
       "      <td>1.0</td>\n",
       "      <td>6285.0</td>\n",
       "      <td>155000</td>\n",
       "      <td>130</td>\n",
       "      <td>YES</td>\n",
       "    </tr>\n",
       "    <tr>\n",
       "      <td>3</td>\n",
       "      <td>100512.0</td>\n",
       "      <td>45621.0</td>\n",
       "      <td>YES</td>\n",
       "      <td>Owner Occupier</td>\n",
       "      <td>1.0</td>\n",
       "      <td>19.0</td>\n",
       "      <td>1.0</td>\n",
       "      <td>1878.0</td>\n",
       "      <td>0.0</td>\n",
       "      <td>9260.0</td>\n",
       "      <td>195000</td>\n",
       "      <td>100</td>\n",
       "      <td>YES</td>\n",
       "    </tr>\n",
       "    <tr>\n",
       "      <td>4</td>\n",
       "      <td>100537.0</td>\n",
       "      <td>45081.0</td>\n",
       "      <td>NO</td>\n",
       "      <td>Owner Occupier</td>\n",
       "      <td>14.0</td>\n",
       "      <td>15.0</td>\n",
       "      <td>2.0</td>\n",
       "      <td>713.0</td>\n",
       "      <td>1.0</td>\n",
       "      <td>8430.0</td>\n",
       "      <td>140000</td>\n",
       "      <td>110</td>\n",
       "      <td>NO</td>\n",
       "    </tr>\n",
       "  </tbody>\n",
       "</table>\n",
       "</div>"
      ],
      "text/plain": [
       "         ID   Income AppliedOnline       Residence  YearCurrentAddress  \\\n",
       "0  100522.0  43982.0           YES  Owner Occupier                13.0   \n",
       "1  101756.0  59944.0           YES  Owner Occupier                20.0   \n",
       "2  101354.0  57718.0           YES  Owner Occupier                25.0   \n",
       "3  100512.0  45621.0           YES  Owner Occupier                 1.0   \n",
       "4  100537.0  45081.0            NO  Owner Occupier                14.0   \n",
       "\n",
       "   YearsCurrentEmployer  NumberOfCards  CCDebt  Loans  LoanAmount  SalePrice  \\\n",
       "0                  11.0            2.0  1055.0    0.0      9405.0     500000   \n",
       "1                  11.0            2.0  3894.0    0.0      9880.0     750000   \n",
       "2                  16.0            2.0  1555.0    1.0      6285.0     155000   \n",
       "3                  19.0            1.0  1878.0    0.0      9260.0     195000   \n",
       "4                  15.0            2.0   713.0    1.0      8430.0     140000   \n",
       "\n",
       "   Location MortgageDefault  \n",
       "0       110              NO  \n",
       "1       110              NO  \n",
       "2       130             YES  \n",
       "3       100             YES  \n",
       "4       110              NO  "
      ]
     },
     "execution_count": 42,
     "metadata": {},
     "output_type": "execute_result"
    }
   ],
   "source": [
    "data.head()"
   ]
  },
  {
   "cell_type": "markdown",
   "metadata": {},
   "source": [
    "###I initially tested a simple Logistic regression model just to make sure I got the pipeline set up correctly. I drop the ID column as it isnt a feature variable. I check the schema and the data to make sure the previous steps worked."
   ]
  },
  {
   "cell_type": "code",
   "execution_count": 79,
   "metadata": {},
   "outputs": [
    {
     "data": {
      "text/plain": [
       "DataFrame[Income: double, AppliedOnline: string, Residence: string, YearCurrentAddress: double, YearsCurrentEmployer: double, NumberOfCards: double, CCDebt: double, Loans: double, LoanAmount: double, SalePrice: int, Location: int, MortgageDefault: string, AppliedOnlineIndex: double, AppliedOnlineclassVec: vector, ResidenceIndex: double, ResidenceclassVec: vector, label: double, features: vector]"
      ]
     },
     "metadata": {},
     "output_type": "display_data"
    },
    {
     "name": "stdout",
     "output_type": "stream",
     "text": [
      "root\n",
      " |-- ID: double (nullable = true)\n",
      " |-- Income: double (nullable = true)\n",
      " |-- AppliedOnline: string (nullable = true)\n",
      " |-- Residence: string (nullable = true)\n",
      " |-- YearCurrentAddress: double (nullable = true)\n",
      " |-- YearsCurrentEmployer: double (nullable = true)\n",
      " |-- NumberOfCards: double (nullable = true)\n",
      " |-- CCDebt: double (nullable = true)\n",
      " |-- Loans: double (nullable = true)\n",
      " |-- LoanAmount: double (nullable = true)\n",
      " |-- SalePrice: integer (nullable = true)\n",
      " |-- Location: integer (nullable = true)\n",
      " |-- MortgageDefault: string (nullable = true)\n",
      "\n"
     ]
    },
    {
     "data": {
      "text/html": [
       "<div>\n",
       "<style scoped>\n",
       "    .dataframe tbody tr th:only-of-type {\n",
       "        vertical-align: middle;\n",
       "    }\n",
       "\n",
       "    .dataframe tbody tr th {\n",
       "        vertical-align: top;\n",
       "    }\n",
       "\n",
       "    .dataframe thead th {\n",
       "        text-align: right;\n",
       "    }\n",
       "</style>\n",
       "<table border=\"1\" class=\"dataframe\">\n",
       "  <thead>\n",
       "    <tr style=\"text-align: right;\">\n",
       "      <th></th>\n",
       "      <th>0</th>\n",
       "      <th>1</th>\n",
       "      <th>2</th>\n",
       "      <th>3</th>\n",
       "      <th>4</th>\n",
       "    </tr>\n",
       "  </thead>\n",
       "  <tbody>\n",
       "    <tr>\n",
       "      <td>ID</td>\n",
       "      <td>100522</td>\n",
       "      <td>101756</td>\n",
       "      <td>101354</td>\n",
       "      <td>100512</td>\n",
       "      <td>100537</td>\n",
       "    </tr>\n",
       "    <tr>\n",
       "      <td>Income</td>\n",
       "      <td>43982</td>\n",
       "      <td>59944</td>\n",
       "      <td>57718</td>\n",
       "      <td>45621</td>\n",
       "      <td>45081</td>\n",
       "    </tr>\n",
       "    <tr>\n",
       "      <td>AppliedOnline</td>\n",
       "      <td>YES</td>\n",
       "      <td>YES</td>\n",
       "      <td>YES</td>\n",
       "      <td>YES</td>\n",
       "      <td>NO</td>\n",
       "    </tr>\n",
       "    <tr>\n",
       "      <td>Residence</td>\n",
       "      <td>Owner Occupier</td>\n",
       "      <td>Owner Occupier</td>\n",
       "      <td>Owner Occupier</td>\n",
       "      <td>Owner Occupier</td>\n",
       "      <td>Owner Occupier</td>\n",
       "    </tr>\n",
       "    <tr>\n",
       "      <td>YearCurrentAddress</td>\n",
       "      <td>13</td>\n",
       "      <td>20</td>\n",
       "      <td>25</td>\n",
       "      <td>1</td>\n",
       "      <td>14</td>\n",
       "    </tr>\n",
       "    <tr>\n",
       "      <td>YearsCurrentEmployer</td>\n",
       "      <td>11</td>\n",
       "      <td>11</td>\n",
       "      <td>16</td>\n",
       "      <td>19</td>\n",
       "      <td>15</td>\n",
       "    </tr>\n",
       "    <tr>\n",
       "      <td>NumberOfCards</td>\n",
       "      <td>2</td>\n",
       "      <td>2</td>\n",
       "      <td>2</td>\n",
       "      <td>1</td>\n",
       "      <td>2</td>\n",
       "    </tr>\n",
       "    <tr>\n",
       "      <td>CCDebt</td>\n",
       "      <td>1055</td>\n",
       "      <td>3894</td>\n",
       "      <td>1555</td>\n",
       "      <td>1878</td>\n",
       "      <td>713</td>\n",
       "    </tr>\n",
       "    <tr>\n",
       "      <td>Loans</td>\n",
       "      <td>0</td>\n",
       "      <td>0</td>\n",
       "      <td>1</td>\n",
       "      <td>0</td>\n",
       "      <td>1</td>\n",
       "    </tr>\n",
       "    <tr>\n",
       "      <td>LoanAmount</td>\n",
       "      <td>9405</td>\n",
       "      <td>9880</td>\n",
       "      <td>6285</td>\n",
       "      <td>9260</td>\n",
       "      <td>8430</td>\n",
       "    </tr>\n",
       "    <tr>\n",
       "      <td>SalePrice</td>\n",
       "      <td>500000</td>\n",
       "      <td>750000</td>\n",
       "      <td>155000</td>\n",
       "      <td>195000</td>\n",
       "      <td>140000</td>\n",
       "    </tr>\n",
       "    <tr>\n",
       "      <td>Location</td>\n",
       "      <td>110</td>\n",
       "      <td>110</td>\n",
       "      <td>130</td>\n",
       "      <td>100</td>\n",
       "      <td>110</td>\n",
       "    </tr>\n",
       "    <tr>\n",
       "      <td>MortgageDefault</td>\n",
       "      <td>NO</td>\n",
       "      <td>NO</td>\n",
       "      <td>YES</td>\n",
       "      <td>YES</td>\n",
       "      <td>NO</td>\n",
       "    </tr>\n",
       "    <tr>\n",
       "      <td>AppliedOnlineIndex</td>\n",
       "      <td>0</td>\n",
       "      <td>0</td>\n",
       "      <td>0</td>\n",
       "      <td>0</td>\n",
       "      <td>1</td>\n",
       "    </tr>\n",
       "    <tr>\n",
       "      <td>AppliedOnlineclassVec</td>\n",
       "      <td>(1.0)</td>\n",
       "      <td>(1.0)</td>\n",
       "      <td>(1.0)</td>\n",
       "      <td>(1.0)</td>\n",
       "      <td>(0.0)</td>\n",
       "    </tr>\n",
       "    <tr>\n",
       "      <td>ResidenceIndex</td>\n",
       "      <td>0</td>\n",
       "      <td>0</td>\n",
       "      <td>0</td>\n",
       "      <td>0</td>\n",
       "      <td>0</td>\n",
       "    </tr>\n",
       "    <tr>\n",
       "      <td>ResidenceclassVec</td>\n",
       "      <td>(1.0, 0.0, 0.0, 0.0)</td>\n",
       "      <td>(1.0, 0.0, 0.0, 0.0)</td>\n",
       "      <td>(1.0, 0.0, 0.0, 0.0)</td>\n",
       "      <td>(1.0, 0.0, 0.0, 0.0)</td>\n",
       "      <td>(1.0, 0.0, 0.0, 0.0)</td>\n",
       "    </tr>\n",
       "    <tr>\n",
       "      <td>label</td>\n",
       "      <td>0</td>\n",
       "      <td>0</td>\n",
       "      <td>1</td>\n",
       "      <td>1</td>\n",
       "      <td>0</td>\n",
       "    </tr>\n",
       "    <tr>\n",
       "      <td>features</td>\n",
       "      <td>[1.0, 1.0, 0.0, 0.0, 0.0, 43982.0, 13.0, 11.0,...</td>\n",
       "      <td>[1.0, 1.0, 0.0, 0.0, 0.0, 59944.0, 20.0, 11.0,...</td>\n",
       "      <td>[1.0, 1.0, 0.0, 0.0, 0.0, 57718.0, 25.0, 16.0,...</td>\n",
       "      <td>[1.0, 1.0, 0.0, 0.0, 0.0, 45621.0, 1.0, 19.0, ...</td>\n",
       "      <td>[0.0, 1.0, 0.0, 0.0, 0.0, 45081.0, 14.0, 15.0,...</td>\n",
       "    </tr>\n",
       "  </tbody>\n",
       "</table>\n",
       "</div>"
      ],
      "text/plain": [
       "                                                                       0  \\\n",
       "ID                                                                100522   \n",
       "Income                                                             43982   \n",
       "AppliedOnline                                                        YES   \n",
       "Residence                                                 Owner Occupier   \n",
       "YearCurrentAddress                                                    13   \n",
       "YearsCurrentEmployer                                                  11   \n",
       "NumberOfCards                                                          2   \n",
       "CCDebt                                                              1055   \n",
       "Loans                                                                  0   \n",
       "LoanAmount                                                          9405   \n",
       "SalePrice                                                         500000   \n",
       "Location                                                             110   \n",
       "MortgageDefault                                                       NO   \n",
       "AppliedOnlineIndex                                                     0   \n",
       "AppliedOnlineclassVec                                              (1.0)   \n",
       "ResidenceIndex                                                         0   \n",
       "ResidenceclassVec                                   (1.0, 0.0, 0.0, 0.0)   \n",
       "label                                                                  0   \n",
       "features               [1.0, 1.0, 0.0, 0.0, 0.0, 43982.0, 13.0, 11.0,...   \n",
       "\n",
       "                                                                       1  \\\n",
       "ID                                                                101756   \n",
       "Income                                                             59944   \n",
       "AppliedOnline                                                        YES   \n",
       "Residence                                                 Owner Occupier   \n",
       "YearCurrentAddress                                                    20   \n",
       "YearsCurrentEmployer                                                  11   \n",
       "NumberOfCards                                                          2   \n",
       "CCDebt                                                              3894   \n",
       "Loans                                                                  0   \n",
       "LoanAmount                                                          9880   \n",
       "SalePrice                                                         750000   \n",
       "Location                                                             110   \n",
       "MortgageDefault                                                       NO   \n",
       "AppliedOnlineIndex                                                     0   \n",
       "AppliedOnlineclassVec                                              (1.0)   \n",
       "ResidenceIndex                                                         0   \n",
       "ResidenceclassVec                                   (1.0, 0.0, 0.0, 0.0)   \n",
       "label                                                                  0   \n",
       "features               [1.0, 1.0, 0.0, 0.0, 0.0, 59944.0, 20.0, 11.0,...   \n",
       "\n",
       "                                                                       2  \\\n",
       "ID                                                                101354   \n",
       "Income                                                             57718   \n",
       "AppliedOnline                                                        YES   \n",
       "Residence                                                 Owner Occupier   \n",
       "YearCurrentAddress                                                    25   \n",
       "YearsCurrentEmployer                                                  16   \n",
       "NumberOfCards                                                          2   \n",
       "CCDebt                                                              1555   \n",
       "Loans                                                                  1   \n",
       "LoanAmount                                                          6285   \n",
       "SalePrice                                                         155000   \n",
       "Location                                                             130   \n",
       "MortgageDefault                                                      YES   \n",
       "AppliedOnlineIndex                                                     0   \n",
       "AppliedOnlineclassVec                                              (1.0)   \n",
       "ResidenceIndex                                                         0   \n",
       "ResidenceclassVec                                   (1.0, 0.0, 0.0, 0.0)   \n",
       "label                                                                  1   \n",
       "features               [1.0, 1.0, 0.0, 0.0, 0.0, 57718.0, 25.0, 16.0,...   \n",
       "\n",
       "                                                                       3  \\\n",
       "ID                                                                100512   \n",
       "Income                                                             45621   \n",
       "AppliedOnline                                                        YES   \n",
       "Residence                                                 Owner Occupier   \n",
       "YearCurrentAddress                                                     1   \n",
       "YearsCurrentEmployer                                                  19   \n",
       "NumberOfCards                                                          1   \n",
       "CCDebt                                                              1878   \n",
       "Loans                                                                  0   \n",
       "LoanAmount                                                          9260   \n",
       "SalePrice                                                         195000   \n",
       "Location                                                             100   \n",
       "MortgageDefault                                                      YES   \n",
       "AppliedOnlineIndex                                                     0   \n",
       "AppliedOnlineclassVec                                              (1.0)   \n",
       "ResidenceIndex                                                         0   \n",
       "ResidenceclassVec                                   (1.0, 0.0, 0.0, 0.0)   \n",
       "label                                                                  1   \n",
       "features               [1.0, 1.0, 0.0, 0.0, 0.0, 45621.0, 1.0, 19.0, ...   \n",
       "\n",
       "                                                                       4  \n",
       "ID                                                                100537  \n",
       "Income                                                             45081  \n",
       "AppliedOnline                                                         NO  \n",
       "Residence                                                 Owner Occupier  \n",
       "YearCurrentAddress                                                    14  \n",
       "YearsCurrentEmployer                                                  15  \n",
       "NumberOfCards                                                          2  \n",
       "CCDebt                                                               713  \n",
       "Loans                                                                  1  \n",
       "LoanAmount                                                          8430  \n",
       "SalePrice                                                         140000  \n",
       "Location                                                             110  \n",
       "MortgageDefault                                                       NO  \n",
       "AppliedOnlineIndex                                                     1  \n",
       "AppliedOnlineclassVec                                              (0.0)  \n",
       "ResidenceIndex                                                         0  \n",
       "ResidenceclassVec                                   (1.0, 0.0, 0.0, 0.0)  \n",
       "label                                                                  0  \n",
       "features               [0.0, 1.0, 0.0, 0.0, 0.0, 45081.0, 14.0, 15.0,...  "
      ]
     },
     "execution_count": 79,
     "metadata": {},
     "output_type": "execute_result"
    }
   ],
   "source": [
    "  \n",
    "partialPipeline = Pipeline().setStages(stages)\n",
    "pipelineModel = partialPipeline.fit(df)\n",
    "preppedDataDF = pipelineModel.transform(df)\n",
    "dataset = preppedDataDF.drop('ID')\n",
    "display(dataset)\n",
    "df.printSchema()\n",
    "pd.DataFrame(preppedDataDF.take(5), columns=preppedDataDF.columns).transpose()\n"
   ]
  },
  {
   "cell_type": "markdown",
   "metadata": {},
   "source": [
    "##I Split the data set in to a training and test set."
   ]
  },
  {
   "cell_type": "code",
   "execution_count": 81,
   "metadata": {},
   "outputs": [
    {
     "name": "stdout",
     "output_type": "stream",
     "text": [
      "288\n",
      "131\n"
     ]
    }
   ],
   "source": [
    "(trainingData, testData) = dataset.randomSplit([0.7, 0.3], seed=100)\n",
    "print(trainingData.count())\n",
    "print(testData.count())\n"
   ]
  },
  {
   "cell_type": "markdown",
   "metadata": {},
   "source": [
    "#Initialize a RF and fit to the training data. Produce predictions with a transformation on the test data. "
   ]
  },
  {
   "cell_type": "code",
   "execution_count": 82,
   "metadata": {},
   "outputs": [
    {
     "data": {
      "text/plain": [
       "DataFrame[label: double, LoanAmount: double, NumberOfCards: double, Income: double, Loans: double]"
      ]
     },
     "metadata": {},
     "output_type": "display_data"
    }
   ],
   "source": [
    "rf = RandomForestClassifier(labelCol=\"label\", featuresCol=\"features\")\n",
    "rfModel = rf.fit(trainingData)\n",
    "predictions = rfModel.transform(testData)\n",
    "selected = predictions.select(\"label\", \"LoanAmount\", \"NumberOfCards\", \n",
    "                              \"Income\", \"Loans\")\n"
   ]
  },
  {
   "cell_type": "code",
   "execution_count": null,
   "metadata": {},
   "outputs": [],
   "source": []
  },
  {
   "cell_type": "markdown",
   "metadata": {},
   "source": [
    "#We are ready to evaluate the models accuracy before moving on to hyperparamter tuning."
   ]
  },
  {
   "cell_type": "code",
   "execution_count": 83,
   "metadata": {},
   "outputs": [
    {
     "data": {
      "text/plain": [
       "0.675714285714286"
      ]
     },
     "execution_count": 83,
     "metadata": {},
     "output_type": "execute_result"
    }
   ],
   "source": [
    "from pyspark.ml.evaluation import BinaryClassificationEvaluator\n",
    "\n",
    "evaluator = BinaryClassificationEvaluator()\n",
    "evaluator.evaluate(predictions)"
   ]
  },
  {
   "cell_type": "markdown",
   "metadata": {},
   "source": [
    "#I build a parameter grid with maxdepth and number of trees"
   ]
  },
  {
   "cell_type": "code",
   "execution_count": 84,
   "metadata": {},
   "outputs": [],
   "source": [
    "from pyspark.ml.tuning import ParamGridBuilder, CrossValidator\n",
    "\n",
    "paramGrid = (ParamGridBuilder()\n",
    "             .addGrid(rf.maxDepth, [2, 4, 6])\n",
    "             .addGrid(rf.maxBins, [20, 60])\n",
    "             .addGrid(rf.numTrees, [5, 20])\n",
    "             .build())"
   ]
  },
  {
   "cell_type": "markdown",
   "metadata": {},
   "source": [
    "#Initialize the CrossValidator to iterate over the parameter grid and get predictions."
   ]
  },
  {
   "cell_type": "code",
   "execution_count": 85,
   "metadata": {},
   "outputs": [
    {
     "data": {
      "text/plain": [
       "0.5661904761904762"
      ]
     },
     "execution_count": 85,
     "metadata": {},
     "output_type": "execute_result"
    }
   ],
   "source": [
    "cv = CrossValidator(estimator=rf, estimatorParamMaps=paramGrid, evaluator=evaluator, numFolds=5)\n",
    "cvModel = cv.fit(trainingData)\n",
    "predictions = cvModel.transform(testData)\n",
    "evaluator.evaluate(predictions)"
   ]
  },
  {
   "cell_type": "code",
   "execution_count": 93,
   "metadata": {},
   "outputs": [
    {
     "data": {
      "text/plain": [
       "['Income',\n",
       " 'AppliedOnline',\n",
       " 'Residence',\n",
       " 'YearCurrentAddress',\n",
       " 'YearsCurrentEmployer',\n",
       " 'NumberOfCards',\n",
       " 'CCDebt',\n",
       " 'Loans',\n",
       " 'LoanAmount',\n",
       " 'SalePrice',\n",
       " 'Location',\n",
       " 'MortgageDefault',\n",
       " 'AppliedOnlineIndex',\n",
       " 'AppliedOnlineclassVec',\n",
       " 'ResidenceIndex',\n",
       " 'ResidenceclassVec',\n",
       " 'label',\n",
       " 'features',\n",
       " 'rawPrediction',\n",
       " 'probability',\n",
       " 'prediction']"
      ]
     },
     "execution_count": 93,
     "metadata": {},
     "output_type": "execute_result"
    }
   ],
   "source": [
    "predictions.columns"
   ]
  },
  {
   "cell_type": "markdown",
   "metadata": {},
   "source": [
    "#We extract and evaluate the best model. "
   ]
  },
  {
   "cell_type": "code",
   "execution_count": 94,
   "metadata": {},
   "outputs": [
    {
     "data": {
      "text/plain": [
       "0.8167247791724781"
      ]
     },
     "execution_count": 94,
     "metadata": {},
     "output_type": "execute_result"
    }
   ],
   "source": [
    "bestModel = cvModel.bestModel\n",
    "finalPredictions = bestModel.transform(dataset)\n",
    "evaluator.evaluate(finalPredictions)"
   ]
  }
 ],
 "metadata": {
  "kernelspec": {
   "display_name": "Python 3",
   "language": "python",
   "name": "python3"
  },
  "language_info": {
   "codemirror_mode": {
    "name": "ipython",
    "version": 3
   },
   "file_extension": ".py",
   "mimetype": "text/x-python",
   "name": "python",
   "nbconvert_exporter": "python",
   "pygments_lexer": "ipython3",
   "version": "3.7.4"
  }
 },
 "nbformat": 4,
 "nbformat_minor": 2
}
